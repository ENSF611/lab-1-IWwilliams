{
 "cells": [
  {
   "cell_type": "code",
   "execution_count": null,
   "id": "40577fdd-01c5-4cbf-94fc-637778ace149",
   "metadata": {},
   "outputs": [],
   "source": [
    "# Author: Isaiah Williams\n",
    "# Date: September 30, 2022\n",
    "# ml-lab-1.ipynb"
   ]
  },
  {
   "cell_type": "code",
   "execution_count": 1,
   "id": "7f6d8b0e-a283-4850-b415-1433cd389e35",
   "metadata": {},
   "outputs": [
    {
     "name": "stdout",
     "output_type": "stream",
     "text": [
      "Python␣version: 3.9.12 (main, Apr  5 2022, 01:53:17) \n",
      "[Clang 12.0.0 ]\n",
      "pandas␣version: 1.4.2\n",
      "matplotlib␣version: 3.5.1\n",
      "NumPy␣version: 1.21.5\n",
      "SciPy␣version: 1.7.3\n",
      "IPython␣version: 8.2.0\n",
      "scikit-learn␣version: 1.0.2\n",
      "yellowbrick␣version: 1.5\n"
     ]
    }
   ],
   "source": [
    "import sys\n",
    "print(\"Python␣version:\", sys.version)\n",
    "import pandas as pd\n",
    "print(\"pandas␣version:\", pd.__version__)\n",
    "import matplotlib\n",
    "print(\"matplotlib␣version:\", matplotlib.__version__)\n",
    "import numpy as np\n",
    "print(\"NumPy␣version:\", np.__version__)\n",
    "import scipy as sp\n",
    "print(\"SciPy␣version:\", sp.__version__)\n",
    "import IPython\n",
    "print(\"IPython␣version:\", IPython.__version__)\n",
    "import sklearn\n",
    "print(\"scikit-learn␣version:\", sklearn.__version__)\n",
    "import yellowbrick\n",
    "print(\"yellowbrick␣version:\", yellowbrick.__version__)"
   ]
  },
  {
   "cell_type": "code",
   "execution_count": 14,
   "id": "d66c6c6a-6fc3-4519-8da4-748c7981a143",
   "metadata": {},
   "outputs": [
    {
     "name": "stdout",
     "output_type": "stream",
     "text": [
      "# conda environments:\n",
      "#\n",
      "                         /Users/Isaiah/opt/anaconda3\n",
      "                         /Users/Isaiah/opt/anaconda3/envs/ENSF592\n",
      "                         /Users/Isaiah/opt/anaconda3/envs/ENSF611\n",
      "base                  *  /Users/Isaiah/opt/anaconda3/envs/ensf-ml\n",
      "\n",
      "\n",
      "Note: you may need to restart the kernel to use updated packages.\n"
     ]
    }
   ],
   "source": [
    "conda info --env"
   ]
  },
  {
   "cell_type": "code",
   "execution_count": null,
   "id": "b7c70143-4060-441d-bb7d-fcd16174a088",
   "metadata": {},
   "outputs": [],
   "source": []
  }
 ],
 "metadata": {
  "kernelspec": {
   "display_name": "Python 3 (ipykernel)",
   "language": "python",
   "name": "python3"
  },
  "language_info": {
   "codemirror_mode": {
    "name": "ipython",
    "version": 3
   },
   "file_extension": ".py",
   "mimetype": "text/x-python",
   "name": "python",
   "nbconvert_exporter": "python",
   "pygments_lexer": "ipython3",
   "version": "3.9.12"
  }
 },
 "nbformat": 4,
 "nbformat_minor": 5
}
